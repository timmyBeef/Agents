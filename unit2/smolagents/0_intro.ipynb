{
 "cells": [
  {
   "cell_type": "markdown",
   "id": "0d129f25",
   "metadata": {},
   "source": [
    "# What is smolagents ?\n",
    "smolagents is a simple yet powerful framework for building AI agents. \n",
    "It provides LLMs with the agency to interact with the real world, such as searching or generating images.\n",
    "\n",
    "As we learned in unit 1, AI agents are programs that use LLMs to generate ‘thoughts’ based on ‘observations’ to perform ‘actions’. Let’s explore how this is implemented in smolagents.\n",
    "\n",
    "## smolagents is ideal when:\n",
    "\n",
    "You need a \"**lightweight**\" and minimal solution.\n",
    "You want to experiment quickly without complex configurations.\n",
    "Your application logic is straightforward.\n",
    "\n",
    "in short: learn LANGGRAPH is more useful XD..\n",
    "\n",
    "\n",
    "## Model Integration in smolagents\n",
    "smolagents supports flexible LLM integration, allowing you to use any callable model that meets certain criteria. The framework provides several predefined classes to simplify model connections:\n",
    "\n",
    "- TransformersModel: Implements a local transformers pipeline for seamless integration.\n",
    "\n",
    "- InferenceClientModel: Supports serverless inference calls through Hugging Face’s infrastructure, or via a growing number of third-party inference providers.\n",
    "\n",
    "- **LiteLLMModel**: Leverages LiteLLM for lightweight model interactions.\n",
    "\n",
    "- **OpenAIServerModel**: Connects to any service that offers an OpenAI API interface.\n",
    "\n",
    "- AzureOpenAIServerModel: Supports integration with any Azure OpenAI deployment."
   ]
  }
 ],
 "metadata": {
  "language_info": {
   "name": "python"
  }
 },
 "nbformat": 4,
 "nbformat_minor": 5
}
